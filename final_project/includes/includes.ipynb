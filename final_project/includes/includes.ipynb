{
 "cells": [
  {
   "cell_type": "code",
   "execution_count": 0,
   "metadata": {
    "application/vnd.databricks.v1+cell": {
     "cellMetadata": {
      "byteLimit": 2048000,
      "rowLimit": 10000
     },
     "inputWidgets": {},
     "nuid": "d5f37000-85eb-41da-8780-4aff3880bb3e",
     "showTitle": false,
     "title": ""
    }
   },
   "outputs": [],
   "source": [
    "!pip install pyspark==3.2.1 --quiet\n"
   ]
  },
  {
   "cell_type": "code",
   "execution_count": 0,
   "metadata": {
    "application/vnd.databricks.v1+cell": {
     "cellMetadata": {
      "byteLimit": 2048000,
      "rowLimit": 10000
     },
     "inputWidgets": {},
     "nuid": "bb9f7c42-13e2-4591-b7c3-415e7369bb68",
     "showTitle": false,
     "title": ""
    }
   },
   "outputs": [],
   "source": [
    "!pip install --upgrade pip mlflow transformers==4.35.2 emoji==0.6.0 --quiet "
   ]
  },
  {
   "cell_type": "code",
   "execution_count": 0,
   "metadata": {
    "application/vnd.databricks.v1+cell": {
     "cellMetadata": {
      "byteLimit": 2048000,
      "rowLimit": 10000
     },
     "inputWidgets": {},
     "nuid": "a72b0667-b55f-4f04-9712-3631c469e67d",
     "showTitle": false,
     "title": ""
    }
   },
   "outputs": [],
   "source": [
    "# restart the kernel after loading dependencies\n",
    "dbutils.library.restartPython()"
   ]
  },
  {
   "cell_type": "code",
   "execution_count": 0,
   "metadata": {
    "application/vnd.databricks.v1+cell": {
     "cellMetadata": {
      "byteLimit": 2048000,
      "rowLimit": 10000
     },
     "inputWidgets": {},
     "nuid": "f254a0f4-bae7-441e-bbb1-8814f4c161c0",
     "showTitle": false,
     "title": ""
    }
   },
   "outputs": [],
   "source": [
    "import time\n",
    "# Set the notebooks starting time.\n",
    "START_TIME = time.time()"
   ]
  },
  {
   "cell_type": "code",
   "execution_count": 0,
   "metadata": {
    "application/vnd.databricks.v1+cell": {
     "cellMetadata": {
      "byteLimit": 2048000,
      "rowLimit": 10000
     },
     "inputWidgets": {},
     "nuid": "6f9af3e6-3425-46ae-8d0d-3f80efc55a6a",
     "showTitle": false,
     "title": ""
    }
   },
   "outputs": [],
   "source": [
    "#/Volumes/voc_catalog/default/voc_volume\n",
    "# Specify the bucket name, url, and path\n",
    "TWEET_BUCKET_NAME = 'voc-75-databricks-data'\n",
    "TWEET_BUCKET_URL = f\"https://{TWEET_BUCKET_NAME}.s3.amazonaws.com/\"\n",
    "TWEET_SOURCE_PATH = f\"s3a://{TWEET_BUCKET_NAME}/voc_volume/\"\n",
    "\n",
    "# setup storage for this user\n",
    "#username = spark.sql(\"SELECT regexp_replace(current_user(), '[^a-zA-Z0-9]', '_')\").first()[0]\n",
    "\n",
    "USER_NAME = dbutils.notebook.entry_point.getDbutils().notebook().getContext().userName().get().split('@')[0]\n",
    "USER_DIR = f'/tmp/{USER_NAME}/'\n",
    "\n",
    "BRONZE_CHECKPOINT = USER_DIR + 'bronze.checkpoint'\n",
    "BRONZE_DELTA = USER_DIR + 'bronze.delta'\n",
    "\n",
    "SILVER_CHECKPOINT = USER_DIR + 'silver.checkpoint'\n",
    "SILVER_DELTA = USER_DIR + 'silver.delta'\n",
    "\n",
    "GOLD_CHECKPOINT = USER_DIR + 'gold.checkpoint'\n",
    "GOLD_DELTA = USER_DIR + 'gold.delta'\n",
    "\n",
    "MODEL_NAME = \"HF_TWEET_SENTIMENT\" #USER_NAME + \"_Model\"\n",
    "\n",
    "# https://huggingface.co/finiteautomata/bertweet-base-sentiment-analysis\n",
    "HF_MODEL_NAME = \"finiteautomata/bertweet-base-sentiment-analysis\""
   ]
  },
  {
   "cell_type": "code",
   "execution_count": 0,
   "metadata": {
    "application/vnd.databricks.v1+cell": {
     "cellMetadata": {
      "byteLimit": 2048000,
      "rowLimit": 10000
     },
     "inputWidgets": {},
     "nuid": "676336a8-f326-4dcb-85e8-dc8f3a35e6e5",
     "showTitle": false,
     "title": ""
    }
   },
   "outputs": [],
   "source": [
    "%run ./utilities"
   ]
  },
  {
   "cell_type": "code",
   "execution_count": 0,
   "metadata": {
    "application/vnd.databricks.v1+cell": {
     "cellMetadata": {
      "byteLimit": 2048000,
      "rowLimit": 10000
     },
     "inputWidgets": {},
     "nuid": "eb7dcabd-f1b2-4056-a81c-837f545f3b7f",
     "showTitle": false,
     "title": ""
    }
   },
   "outputs": [],
   "source": [
    "displayHTML(f\"\"\"\n",
    "<H2>VERY IMPORTANT TO UNDERSTAND THE USE OF THESE VARIABLES!<br> Please ask if you are confused about their use.</H2>\n",
    "<table border=1>\n",
    "<tr><td><b>Variable Name</b></td><td><b>Value</b></td><td><b>Description</b></td></tr>\n",
    "<tr><td>TWEET_BUCKET_NAME</td><td>{TWEET_BUCKET_NAME}</td><td>AWS S3 Bucket Name where the tweets are coming into your system.</td></tr>\n",
    "<tr><td>TWEET_BUCKET_URL</td><td>{TWEET_BUCKET_URL}</td><td>AWS S3 Bucket URL where the tweets are coming into your system.</td></tr>\n",
    "<tr><td>TWEET_SOURCE_PATH</td><td>{TWEET_SOURCE_PATH}</td><td>AWS S3 Path where the tweets are coming into your system.</td></tr>\n",
    "<tr><td>USER_DIR</td><td>{USER_DIR}</td><td>Path to the local storage (dbfs) for your project.</td></tr>\n",
    "<tr><td>BRONZE_CHECKPOINT</td><td>{BRONZE_CHECKPOINT}</td><td>Store your Bronze Checkpoint data here.</td></tr>\n",
    "<tr><td>BRONZE_DELTA</td><td>{BRONZE_DELTA}</td><td>Store your Bronze Delta Table here.</td></tr>\n",
    "<tr><td>SILVER_CHECKPOINT</td><td>{SILVER_CHECKPOINT}</td><td>Store your Silver Checkpoint data here.</td></tr>\n",
    "<tr><td>SILVER_DELTA</td><td>{SILVER_DELTA}</td><td>Store your Silver Delta Table here.</td></tr>\n",
    "<tr><td>GOLD_CHECKPOINT</td><td>{GOLD_CHECKPOINT}</td><td>Store your Gold Checkpoint data here.</td></tr>\n",
    "<tr><td>GOLD_DELTA</td><td>{GOLD_DELTA}</td><td>Store your Gold Delta Table here.</td></tr>\n",
    "<tr><td>MODEL_NAME</td><td>{MODEL_NAME}</td><td>Load this production model</td></tr>\n",
    "<tr><td>HF_MODEL_NAME</td><td>{HF_MODEL_NAME}</td><td>The Hugging Face Model for Tweet sentiment classification: https://huggingface.co/finiteautomata/bertweet-base-sentiment-analysis </td></tr>\n",
    "</table>\n",
    "\"\"\")"
   ]
  },
  {
   "cell_type": "code",
   "execution_count": 0,
   "metadata": {
    "application/vnd.databricks.v1+cell": {
     "cellMetadata": {
      "byteLimit": 2048000,
      "rowLimit": 10000
     },
     "inputWidgets": {},
     "nuid": "72c575d0-a22e-4c8e-84bc-141e3100ea2d",
     "showTitle": false,
     "title": ""
    }
   },
   "outputs": [],
   "source": [
    "print('the includes are included')"
   ]
  }
 ],
 "metadata": {
  "application/vnd.databricks.v1+notebook": {
   "dashboards": [],
   "language": "python",
   "notebookMetadata": {
    "pythonIndentUnit": 4
   },
   "notebookName": "includes",
   "widgets": {}
  }
 },
 "nbformat": 4,
 "nbformat_minor": 0
}
